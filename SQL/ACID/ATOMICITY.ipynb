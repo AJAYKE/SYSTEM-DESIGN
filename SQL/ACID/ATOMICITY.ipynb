{
    "metadata": {
        "kernelspec": {
            "name": "SQL",
            "display_name": "SQL",
            "language": "sql"
        },
        "language_info": {
            "name": "sql",
            "version": ""
        }
    },
    "nbformat_minor": 2,
    "nbformat": 4,
    "cells": [
        {
            "cell_type": "markdown",
            "source": [
                "Let's create the Account table with a check constraint that ensures the balance cannot be negative, and then define the test cases."
            ],
            "metadata": {
                "language": "sql",
                "azdata_cell_guid": "aec7b29d-74b8-4913-a328-126c14824b36"
            },
            "attachments": {}
        },
        {
            "cell_type": "code",
            "source": [
                "CREATE TABLE Account (\n",
                "    AccountID INT PRIMARY KEY,\n",
                "    Balance DECIMAL(10, 2) CHECK (Balance >= 0)\n",
                ");"
            ],
            "metadata": {
                "azdata_cell_guid": "7b5180c7-43e8-4634-874c-5d462c17c9a2",
                "language": "sql",
                "tags": []
            },
            "outputs": [
                {
                    "output_type": "error",
                    "evalue": "Msg 2714, Level 16, State 6, Line 1\nThere is already an object named 'Account' in the database.",
                    "ename": "",
                    "traceback": []
                },
                {
                    "output_type": "display_data",
                    "data": {
                        "text/html": "Total execution time: 00:00:00.006"
                    },
                    "metadata": {}
                }
            ],
            "execution_count": 9
        },
        {
            "cell_type": "markdown",
            "source": [
                "Inset some initial data"
            ],
            "metadata": {
                "language": "sql",
                "azdata_cell_guid": "03b7cc3b-0024-468d-a18c-5d5b65616951"
            },
            "attachments": {}
        },
        {
            "cell_type": "code",
            "source": [
                "INSERT into Account (AccountID, Balance) VALUES(1,1000)\n",
                "INSERT INTO Account (AccountID, Balance) VALUES(2, 1000)"
            ],
            "metadata": {
                "language": "sql",
                "azdata_cell_guid": "840ac547-593b-497f-a711-c233b34fc902"
            },
            "outputs": [
                {
                    "output_type": "error",
                    "evalue": "Msg 2627, Level 14, State 1, Line 1\nViolation of PRIMARY KEY constraint 'PK__Account__349DA586ECBA6856'. Cannot insert duplicate key in object 'dbo.Account'. The duplicate key value is (1).",
                    "ename": "",
                    "traceback": []
                },
                {
                    "output_type": "display_data",
                    "data": {
                        "text/html": "The statement has been terminated."
                    },
                    "metadata": {}
                },
                {
                    "output_type": "error",
                    "evalue": "Msg 2627, Level 14, State 1, Line 2\nViolation of PRIMARY KEY constraint 'PK__Account__349DA586ECBA6856'. Cannot insert duplicate key in object 'dbo.Account'. The duplicate key value is (2).",
                    "ename": "",
                    "traceback": []
                },
                {
                    "output_type": "display_data",
                    "data": {
                        "text/html": "The statement has been terminated."
                    },
                    "metadata": {}
                },
                {
                    "output_type": "display_data",
                    "data": {
                        "text/html": "Total execution time: 00:00:00.026"
                    },
                    "metadata": {}
                }
            ],
            "execution_count": 8
        },
        {
            "cell_type": "markdown",
            "source": [
                "Check the update"
            ],
            "metadata": {
                "language": "sql",
                "azdata_cell_guid": "f80b2d85-7bc4-4f40-ab42-0342b4189d82"
            },
            "attachments": {}
        },
        {
            "cell_type": "code",
            "source": [
                "SELECT * FROM Account"
            ],
            "metadata": {
                "azdata_cell_guid": "405d197e-2e04-4b57-bf7f-4e5122b9aa38",
                "language": "sql"
            },
            "outputs": [
                {
                    "output_type": "display_data",
                    "data": {
                        "text/html": "(1 row affected)"
                    },
                    "metadata": {}
                },
                {
                    "output_type": "display_data",
                    "data": {
                        "text/html": "(2 rows affected)"
                    },
                    "metadata": {}
                },
                {
                    "output_type": "display_data",
                    "data": {
                        "text/html": "Total execution time: 00:00:00.007"
                    },
                    "metadata": {}
                },
                {
                    "output_type": "execute_result",
                    "metadata": {},
                    "execution_count": 21,
                    "data": {
                        "application/vnd.dataresource+json": {
                            "schema": {
                                "fields": [
                                    {
                                        "name": "AccountID"
                                    },
                                    {
                                        "name": "Balance"
                                    }
                                ]
                            },
                            "data": [
                                {
                                    "AccountID": "1",
                                    "Balance": "1000.00"
                                },
                                {
                                    "AccountID": "2",
                                    "Balance": "1000.00"
                                }
                            ]
                        },
                        "text/html": [
                            "<table>",
                            "<tr><th>AccountID</th><th>Balance</th></tr>",
                            "<tr><td>1</td><td>1000.00</td></tr>",
                            "<tr><td>2</td><td>1000.00</td></tr>",
                            "</table>"
                        ]
                    }
                }
            ],
            "execution_count": 21
        },
        {
            "cell_type": "markdown",
            "source": [
                "### **ATOMICITY (All or Nothing)**\n",
                "\n",
                "<span style=\"font-family: -apple-system, BlinkMacSystemFont, sans-serif; color: var(--vscode-foreground);\">In an atomic transaction, either all operations succeed or none succeed. If any part fails, the entire transaction is rolled back to its original state, and the database remains consistent. This prevents partial updates that could lead to data corruption or inconsistencies.</span>"
            ],
            "metadata": {
                "language": "sql",
                "azdata_cell_guid": "a5475197-bf33-4428-a823-2eb73489ed9b"
            },
            "attachments": {}
        },
        {
            "cell_type": "markdown",
            "source": [
                "Let's Test the Atomicity."
            ],
            "metadata": {
                "language": "sql",
                "azdata_cell_guid": "ef33671c-df45-464b-b2a1-f8c5a768787a"
            },
            "attachments": {}
        },
        {
            "cell_type": "markdown",
            "source": [
                "The default behaviour in MYSQl is that if an error occurs within a transaction, the specific statement that caused the error is terminated. Still, the transaction itself is not automatically rolled back. This means subsequent statements within the same transaction can still be executed unless you explicitly handle the rollback.\n",
                "\n",
                "We can use the <span style=\"font-family: -apple-system, BlinkMacSystemFont, sans-serif; color: var(--vscode-foreground);\">XACT_ABORT method</span>\n",
                "\n",
                "When SET XACT\\_ABORT is ON, the transaction is terminated and rolled back if a Transact-SQL statement raises a run-time error.\n",
                "\n",
                "We can achieve this atomicity behaviour in other ways aswell, by using TRY and CATCH"
            ],
            "metadata": {
                "language": "sql",
                "azdata_cell_guid": "4320e3e1-3055-4ff8-9f76-cd54405af9f3"
            },
            "attachments": {}
        },
        {
            "cell_type": "code",
            "source": [
                "SET XACT_ABORT ON;\n",
                "\n",
                "BEGIN TRANSACTION\n",
                "\n",
                "    -- THIS WILL BE SUCCESSFUL AS THE BALANCE WILL STILL BE GREATER THAN 0\n",
                "    UPDATE ACCOUNT SET BALANCE = BALANCE - 500 WHERE ACCOUNTID = 1\n",
                "\n",
                "    -- LETS UPDATE THE ACCOUNTID 1 AGAIN AND TRY TO BREACH NON NEGATIVE BALANCE CONSTRAINT\n",
                "    UPDATE ACCOUNT SET BALANCE = BALANCE - 700 WHERE ACCOUNTID = 1\n",
                "    -- THIS SHOULD THROW THE ERROR\n",
                "\n",
                "    --NOW LETS UPDATE ACCOUNTID 2 AGAIN\n",
                "    UPDATE Account SET Balance = Balance + 500.00 WHERE AccountID = 2;\n",
                "\n",
                "COMMIT TRANSACTION"
            ],
            "metadata": {
                "language": "sql",
                "azdata_cell_guid": "29487852-5bb0-4d62-9441-4c9101af0860",
                "tags": []
            },
            "outputs": [
                {
                    "output_type": "display_data",
                    "data": {
                        "text/html": "(1 row affected)"
                    },
                    "metadata": {}
                },
                {
                    "output_type": "error",
                    "evalue": "Msg 547, Level 16, State 0, Line 9\nThe UPDATE statement conflicted with the CHECK constraint \"CK__Account__Balance__25A691D2\". The conflict occurred in database \"master\", table \"dbo.Account\", column 'Balance'.",
                    "ename": "",
                    "traceback": []
                },
                {
                    "output_type": "display_data",
                    "data": {
                        "text/html": "Total execution time: 00:00:00.025"
                    },
                    "metadata": {}
                }
            ],
            "execution_count": 24
        },
        {
            "cell_type": "code",
            "source": [
                "SELECT * from Account"
            ],
            "metadata": {
                "language": "sql",
                "azdata_cell_guid": "16360204-9ad0-4208-b69e-ac2b741d59b1"
            },
            "outputs": [
                {
                    "output_type": "display_data",
                    "data": {
                        "text/html": "(2 rows affected)"
                    },
                    "metadata": {}
                },
                {
                    "output_type": "display_data",
                    "data": {
                        "text/html": "Total execution time: 00:00:00.009"
                    },
                    "metadata": {}
                },
                {
                    "output_type": "execute_result",
                    "metadata": {},
                    "execution_count": 25,
                    "data": {
                        "application/vnd.dataresource+json": {
                            "schema": {
                                "fields": [
                                    {
                                        "name": "AccountID"
                                    },
                                    {
                                        "name": "Balance"
                                    }
                                ]
                            },
                            "data": [
                                {
                                    "AccountID": "1",
                                    "Balance": "1000.00"
                                },
                                {
                                    "AccountID": "2",
                                    "Balance": "1000.00"
                                }
                            ]
                        },
                        "text/html": [
                            "<table>",
                            "<tr><th>AccountID</th><th>Balance</th></tr>",
                            "<tr><td>1</td><td>1000.00</td></tr>",
                            "<tr><td>2</td><td>1000.00</td></tr>",
                            "</table>"
                        ]
                    }
                }
            ],
            "execution_count": 25
        },
        {
            "cell_type": "markdown",
            "source": [
                "Lets try the same change again with XACT\\_ABORT OFF"
            ],
            "metadata": {
                "language": "sql",
                "azdata_cell_guid": "91b3592b-27c8-487c-a9bc-d94d78140816"
            },
            "attachments": {}
        },
        {
            "cell_type": "code",
            "source": [
                "SET XACT_ABORT OFF;\n",
                "\n",
                "BEGIN TRANSACTION\n",
                "\n",
                "    -- THIS WILL BE SUCCESSFUL AS THE BALANCE WILL STILL BE GREATER THAN 0\n",
                "    UPDATE ACCOUNT SET BALANCE = BALANCE - 500 WHERE ACCOUNTID = 1\n",
                "\n",
                "    -- LETS UPDATE THE ACCOUNTID 1 AGAIN AND TRY TO BREACH NON NEGATIVE BALANCE CONSTRAINT\n",
                "    UPDATE ACCOUNT SET BALANCE = BALANCE - 700 WHERE ACCOUNTID = 1\n",
                "    -- THIS SHOULD THROW THE ERROR\n",
                "\n",
                "    --NOW LETS UPDATE ACCOUNTID 2 AGAIN\n",
                "    UPDATE Account SET Balance = Balance + 500.00 WHERE AccountID = 2;\n",
                "\n",
                "COMMIT TRANSACTION"
            ],
            "metadata": {
                "language": "sql",
                "azdata_cell_guid": "b4fe6a1e-ae09-47de-a5fa-4a92dd3cb07a"
            },
            "outputs": [
                {
                    "output_type": "display_data",
                    "data": {
                        "text/html": "(1 row affected)"
                    },
                    "metadata": {}
                },
                {
                    "output_type": "error",
                    "evalue": "Msg 547, Level 16, State 0, Line 9\nThe UPDATE statement conflicted with the CHECK constraint \"CK__Account__Balance__25A691D2\". The conflict occurred in database \"master\", table \"dbo.Account\", column 'Balance'.",
                    "ename": "",
                    "traceback": []
                },
                {
                    "output_type": "display_data",
                    "data": {
                        "text/html": "The statement has been terminated."
                    },
                    "metadata": {}
                },
                {
                    "output_type": "display_data",
                    "data": {
                        "text/html": "(1 row affected)"
                    },
                    "metadata": {}
                },
                {
                    "output_type": "display_data",
                    "data": {
                        "text/html": "Total execution time: 00:00:00.026"
                    },
                    "metadata": {}
                }
            ],
            "execution_count": 26
        },
        {
            "cell_type": "code",
            "source": [
                "SELECT * FROM ACCOUNT"
            ],
            "metadata": {
                "language": "sql",
                "azdata_cell_guid": "d54bbc0e-8472-44a7-b1f4-da2be3b72cae"
            },
            "outputs": [
                {
                    "output_type": "display_data",
                    "data": {
                        "text/html": "(2 rows affected)"
                    },
                    "metadata": {}
                },
                {
                    "output_type": "display_data",
                    "data": {
                        "text/html": "Total execution time: 00:00:00.015"
                    },
                    "metadata": {}
                },
                {
                    "output_type": "execute_result",
                    "metadata": {},
                    "execution_count": 27,
                    "data": {
                        "application/vnd.dataresource+json": {
                            "schema": {
                                "fields": [
                                    {
                                        "name": "AccountID"
                                    },
                                    {
                                        "name": "Balance"
                                    }
                                ]
                            },
                            "data": [
                                {
                                    "AccountID": "1",
                                    "Balance": "500.00"
                                },
                                {
                                    "AccountID": "2",
                                    "Balance": "1500.00"
                                }
                            ]
                        },
                        "text/html": [
                            "<table>",
                            "<tr><th>AccountID</th><th>Balance</th></tr>",
                            "<tr><td>1</td><td>500.00</td></tr>",
                            "<tr><td>2</td><td>1500.00</td></tr>",
                            "</table>"
                        ]
                    }
                }
            ],
            "execution_count": 27
        }
    ]
}